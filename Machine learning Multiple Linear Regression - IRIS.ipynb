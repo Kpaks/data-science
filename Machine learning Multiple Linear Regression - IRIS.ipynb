{
 "cells": [
  {
   "cell_type": "markdown",
   "metadata": {},
   "source": [
    "## Regressão Linear Múltipla"
   ]
  },
  {
   "cell_type": "markdown",
   "metadata": {},
   "source": [
    "Análise e modelagem dos dados de flores do *dataset* \"iris\", contendo informações de largula e comprimento das sépalas e pétalas de 3 espécies de Iris(Iris setosa, Iris virginica e Iris versicolor). O modelo de regressão linear propõe predizer o comprimento da sépala(variável dependente) pelas demais informações(variáveis independentes). Análise com nível de significância(alfa) de 5%.\n",
    "\n",
    "A análise é dividida em 4 partes:\n",
    "\n",
    "- Análise de normalidade do *dataset*\n",
    "- Análise da correlação das variáveis independentes\n",
    "- Criação do modelo e verificação dos requisitos para regressão linear<br>\n",
    "    (R², ANOVA, Multicolinearidade, Normalidade dos resíduos, auto-correlação de resíduos e homocedasticidade)\n",
    "- Análise de *stepAIC*"
   ]
  },
  {
   "cell_type": "markdown",
   "metadata": {},
   "source": [
    "![title](iris.png)"
   ]
  },
  {
   "cell_type": "code",
   "execution_count": 3,
   "metadata": {},
   "outputs": [
    {
     "data": {
      "text/html": [
       "<table>\n",
       "<thead><tr><th scope=col>Sepal.Length</th><th scope=col>Sepal.Width</th><th scope=col>Petal.Length</th><th scope=col>Petal.Width</th><th scope=col>Species</th></tr></thead>\n",
       "<tbody>\n",
       "\t<tr><td>5.1   </td><td>3.5   </td><td>1.4   </td><td>0.2   </td><td>setosa</td></tr>\n",
       "\t<tr><td>4.9   </td><td>3.0   </td><td>1.4   </td><td>0.2   </td><td>setosa</td></tr>\n",
       "\t<tr><td>4.7   </td><td>3.2   </td><td>1.3   </td><td>0.2   </td><td>setosa</td></tr>\n",
       "\t<tr><td>4.6   </td><td>3.1   </td><td>1.5   </td><td>0.2   </td><td>setosa</td></tr>\n",
       "\t<tr><td>5.0   </td><td>3.6   </td><td>1.4   </td><td>0.2   </td><td>setosa</td></tr>\n",
       "\t<tr><td>5.4   </td><td>3.9   </td><td>1.7   </td><td>0.4   </td><td>setosa</td></tr>\n",
       "</tbody>\n",
       "</table>\n"
      ],
      "text/latex": [
       "\\begin{tabular}{r|lllll}\n",
       " Sepal.Length & Sepal.Width & Petal.Length & Petal.Width & Species\\\\\n",
       "\\hline\n",
       "\t 5.1    & 3.5    & 1.4    & 0.2    & setosa\\\\\n",
       "\t 4.9    & 3.0    & 1.4    & 0.2    & setosa\\\\\n",
       "\t 4.7    & 3.2    & 1.3    & 0.2    & setosa\\\\\n",
       "\t 4.6    & 3.1    & 1.5    & 0.2    & setosa\\\\\n",
       "\t 5.0    & 3.6    & 1.4    & 0.2    & setosa\\\\\n",
       "\t 5.4    & 3.9    & 1.7    & 0.4    & setosa\\\\\n",
       "\\end{tabular}\n"
      ],
      "text/markdown": [
       "\n",
       "| Sepal.Length | Sepal.Width | Petal.Length | Petal.Width | Species |\n",
       "|---|---|---|---|---|\n",
       "| 5.1    | 3.5    | 1.4    | 0.2    | setosa |\n",
       "| 4.9    | 3.0    | 1.4    | 0.2    | setosa |\n",
       "| 4.7    | 3.2    | 1.3    | 0.2    | setosa |\n",
       "| 4.6    | 3.1    | 1.5    | 0.2    | setosa |\n",
       "| 5.0    | 3.6    | 1.4    | 0.2    | setosa |\n",
       "| 5.4    | 3.9    | 1.7    | 0.4    | setosa |\n",
       "\n"
      ],
      "text/plain": [
       "  Sepal.Length Sepal.Width Petal.Length Petal.Width Species\n",
       "1 5.1          3.5         1.4          0.2         setosa \n",
       "2 4.9          3.0         1.4          0.2         setosa \n",
       "3 4.7          3.2         1.3          0.2         setosa \n",
       "4 4.6          3.1         1.5          0.2         setosa \n",
       "5 5.0          3.6         1.4          0.2         setosa \n",
       "6 5.4          3.9         1.7          0.4         setosa "
      ]
     },
     "metadata": {},
     "output_type": "display_data"
    },
    {
     "data": {
      "text/plain": [
       "  Sepal.Length    Sepal.Width     Petal.Length    Petal.Width   \n",
       " Min.   :4.300   Min.   :2.000   Min.   :1.000   Min.   :0.100  \n",
       " 1st Qu.:5.100   1st Qu.:2.800   1st Qu.:1.600   1st Qu.:0.300  \n",
       " Median :5.800   Median :3.000   Median :4.350   Median :1.300  \n",
       " Mean   :5.843   Mean   :3.057   Mean   :3.758   Mean   :1.199  \n",
       " 3rd Qu.:6.400   3rd Qu.:3.300   3rd Qu.:5.100   3rd Qu.:1.800  \n",
       " Max.   :7.900   Max.   :4.400   Max.   :6.900   Max.   :2.500  \n",
       "       Species  \n",
       " setosa    :50  \n",
       " versicolor:50  \n",
       " virginica :50  \n",
       "                \n",
       "                \n",
       "                "
      ]
     },
     "metadata": {},
     "output_type": "display_data"
    }
   ],
   "source": [
    "#import de bibliotecas para função de correlation, vif, Breusch-Pagan test e DWTest\n",
    "library(corrplot)\n",
    "library(lmtest)\n",
    "library(car)\n",
    "\n",
    "# Dataset completo\n",
    "df <- data.frame(iris)\n",
    "\n",
    "# Dataset contendo espécie iris-virginica\n",
    "dfVirg <- data.frame(subset(iris, Species == \"virginica\"))\n",
    "\n",
    "# Dataset contendo espécie iris-setosa\n",
    "dfSet <- data.frame(subset(iris, Species == \"setosa\"))\n",
    "\n",
    "# Dataset contendo espécie iris-versicolor\n",
    "dfVersi <- data.frame(subset(iris, Species == \"versicolor\"))\n",
    "\n",
    "# Resumo do dataset completo\n",
    "head(df)\n",
    "summary(df)\n"
   ]
  },
  {
   "cell_type": "code",
   "execution_count": 8,
   "metadata": {
    "scrolled": false
   },
   "outputs": [
    {
     "name": "stdout",
     "output_type": "stream",
     "text": [
      "[1] \"Teste Normalidade - Iris dataset\"\n"
     ]
    },
    {
     "data": {
      "text/plain": [
       "\n",
       "\tShapiro-Wilk normality test\n",
       "\n",
       "data:  iris$Sepal.Length\n",
       "W = 0.97609, p-value = 0.01018\n"
      ]
     },
     "metadata": {},
     "output_type": "display_data"
    },
    {
     "data": {
      "text/plain": [
       "\n",
       "\tShapiro-Wilk normality test\n",
       "\n",
       "data:  iris$Sepal.Width\n",
       "W = 0.98492, p-value = 0.1012\n"
      ]
     },
     "metadata": {},
     "output_type": "display_data"
    },
    {
     "data": {
      "text/plain": [
       "\n",
       "\tShapiro-Wilk normality test\n",
       "\n",
       "data:  iris$Petal.Length\n",
       "W = 0.87627, p-value = 7.412e-10\n"
      ]
     },
     "metadata": {},
     "output_type": "display_data"
    },
    {
     "data": {
      "text/plain": [
       "\n",
       "\tShapiro-Wilk normality test\n",
       "\n",
       "data:  iris$Petal.Width\n",
       "W = 0.90183, p-value = 1.68e-08\n"
      ]
     },
     "metadata": {},
     "output_type": "display_data"
    }
   ],
   "source": [
    "#Análise de normalidade das variáveis\n",
    "#H0=Distribuição normal\n",
    "a <- shapiro.test(iris$Sepal.Length)\n",
    "b <- shapiro.test(iris$Sepal.Width)\n",
    "c <- shapiro.test(iris$Petal.Length)\n",
    "d <- shapiro.test(iris$Petal.Width)\n",
    "\n",
    "df4<- c(a,b,c,d)\n",
    "print('Teste Normalidade - Iris dataset')\n",
    "a\n",
    "b\n",
    "c\n",
    "d\n",
    "#data.frame(df4)"
   ]
  },
  {
   "cell_type": "code",
   "execution_count": 9,
   "metadata": {},
   "outputs": [
    {
     "name": "stdout",
     "output_type": "stream",
     "text": [
      "[1] \"Teste Normalidade - Virginica\"\n"
     ]
    },
    {
     "data": {
      "text/plain": [
       "\n",
       "\tShapiro-Wilk normality test\n",
       "\n",
       "data:  dfVirg$Sepal.Length\n",
       "W = 0.97118, p-value = 0.2583\n"
      ]
     },
     "metadata": {},
     "output_type": "display_data"
    },
    {
     "data": {
      "text/plain": [
       "\n",
       "\tShapiro-Wilk normality test\n",
       "\n",
       "data:  dfVirg$Sepal.Width\n",
       "W = 0.96739, p-value = 0.1809\n"
      ]
     },
     "metadata": {},
     "output_type": "display_data"
    },
    {
     "data": {
      "text/plain": [
       "\n",
       "\tShapiro-Wilk normality test\n",
       "\n",
       "data:  dfVirg$Petal.Length\n",
       "W = 0.96219, p-value = 0.1098\n"
      ]
     },
     "metadata": {},
     "output_type": "display_data"
    },
    {
     "data": {
      "text/plain": [
       "\n",
       "\tShapiro-Wilk normality test\n",
       "\n",
       "data:  dfVirg$Petal.Width\n",
       "W = 0.95977, p-value = 0.08695\n"
      ]
     },
     "metadata": {},
     "output_type": "display_data"
    }
   ],
   "source": [
    "a <- shapiro.test(dfVirg$Sepal.Length)\n",
    "b <- shapiro.test(dfVirg$Sepal.Width)\n",
    "c <- shapiro.test(dfVirg$Petal.Length)\n",
    "d <- shapiro.test(dfVirg$Petal.Width)\n",
    "\n",
    "df2<- c(a,b,c,d)\n",
    "print('Teste Normalidade - Virginica')\n",
    "a\n",
    "b\n",
    "c\n",
    "d\n",
    "#data.frame(df2)"
   ]
  },
  {
   "cell_type": "code",
   "execution_count": 12,
   "metadata": {},
   "outputs": [
    {
     "name": "stdout",
     "output_type": "stream",
     "text": [
      "[1] \"Teste Normalidade - Setosa\"\n"
     ]
    },
    {
     "data": {
      "text/plain": [
       "\n",
       "\tShapiro-Wilk normality test\n",
       "\n",
       "data:  dfSet$Sepal.Length\n",
       "W = 0.9777, p-value = 0.4595\n"
      ]
     },
     "metadata": {},
     "output_type": "display_data"
    },
    {
     "data": {
      "text/plain": [
       "\n",
       "\tShapiro-Wilk normality test\n",
       "\n",
       "data:  dfSet$Sepal.Width\n",
       "W = 0.97172, p-value = 0.2715\n"
      ]
     },
     "metadata": {},
     "output_type": "display_data"
    },
    {
     "data": {
      "text/plain": [
       "\n",
       "\tShapiro-Wilk normality test\n",
       "\n",
       "data:  dfSet$Petal.Length\n",
       "W = 0.95498, p-value = 0.05481\n"
      ]
     },
     "metadata": {},
     "output_type": "display_data"
    },
    {
     "data": {
      "text/plain": [
       "\n",
       "\tShapiro-Wilk normality test\n",
       "\n",
       "data:  dfSet$Petal.Width\n",
       "W = 0.79976, p-value = 8.659e-07\n"
      ]
     },
     "metadata": {},
     "output_type": "display_data"
    }
   ],
   "source": [
    "\n",
    "a <- shapiro.test(dfSet$Sepal.Length)\n",
    "b <- shapiro.test(dfSet$Sepal.Width)\n",
    "c <- shapiro.test(dfSet$Petal.Length)\n",
    "d <- shapiro.test(dfSet$Petal.Width)\n",
    "\n",
    "df3<- c(a,b,c,d)\n",
    "print('Teste Normalidade - Setosa')\n",
    "a\n",
    "b\n",
    "c\n",
    "d\n",
    "#data.frame(df3)"
   ]
  },
  {
   "cell_type": "code",
   "execution_count": 11,
   "metadata": {},
   "outputs": [
    {
     "name": "stdout",
     "output_type": "stream",
     "text": [
      "[1] \"Teste Normalidade - Versicolor\"\n"
     ]
    },
    {
     "data": {
      "text/plain": [
       "\n",
       "\tShapiro-Wilk normality test\n",
       "\n",
       "data:  dfVersi$Sepal.Length\n",
       "W = 0.97784, p-value = 0.4647\n"
      ]
     },
     "metadata": {},
     "output_type": "display_data"
    },
    {
     "data": {
      "text/plain": [
       "\n",
       "\tShapiro-Wilk normality test\n",
       "\n",
       "data:  dfVersi$Sepal.Width\n",
       "W = 0.97413, p-value = 0.338\n"
      ]
     },
     "metadata": {},
     "output_type": "display_data"
    },
    {
     "data": {
      "text/plain": [
       "\n",
       "\tShapiro-Wilk normality test\n",
       "\n",
       "data:  dfVersi$Petal.Length\n",
       "W = 0.966, p-value = 0.1585\n"
      ]
     },
     "metadata": {},
     "output_type": "display_data"
    },
    {
     "data": {
      "text/plain": [
       "\n",
       "\tShapiro-Wilk normality test\n",
       "\n",
       "data:  dfVersi$Petal.Width\n",
       "W = 0.94763, p-value = 0.02728\n"
      ]
     },
     "metadata": {},
     "output_type": "display_data"
    }
   ],
   "source": [
    "a <- shapiro.test(dfVersi$Sepal.Length)\n",
    "b <- shapiro.test(dfVersi$Sepal.Width)\n",
    "c <- shapiro.test(dfVersi$Petal.Length)\n",
    "d <- shapiro.test(dfVersi$Petal.Width)\n",
    "\n",
    "df4<- c(a,b,c,d)\n",
    "print('Teste Normalidade - Versicolor')\n",
    "a\n",
    "b\n",
    "c\n",
    "d\n",
    "#data.frame(df4)"
   ]
  },
  {
   "cell_type": "code",
   "execution_count": 4,
   "metadata": {},
   "outputs": [
    {
     "data": {
      "image/png": "[encoded data removed]",
      "text/plain": [
       "Plot with title \"Normal Q-Q Plot\""
      ]
     },
     "metadata": {},
     "output_type": "display_data"
    }
   ],
   "source": [
    "# Análise gráfica do dataset contendo iris-virginica\n",
    "layout(matrix(c(1,2,3,4,5,6),2,3,3))\n",
    "\n",
    "qqnorm(dfVirg$Sepal.Length)\n",
    "qqline(dfVirg$Sepal.Length)\n",
    "\n",
    "qqnorm(dfVirg$Sepal.Width)\n",
    "qqline(dfVirg$Sepal.Width)\n",
    "\n",
    "qqnorm(dfVirg$Petal.Length)\n",
    "qqline(dfVirg$Petal.Length)\n",
    "\n",
    "qqnorm(dfVirg$Petal.Width)\n",
    "qqline(dfVirg$Petal.Width)\n",
    "\n",
    "layout(1);"
   ]
  },
  {
   "cell_type": "markdown",
   "metadata": {},
   "source": [
    "### Seguindo os critérios necessários para regressão linear, foram selecionados apenas dados da Espécie \"Virginica\", por todas as *features* apresentarem distribuição normal segundo teste de Shapiro wilk e por análise gráfica(acima)."
   ]
  },
  {
   "cell_type": "code",
   "execution_count": 5,
   "metadata": {},
   "outputs": [
    {
     "data": {
      "text/html": [
       "<table>\n",
       "<thead><tr><th></th><th scope=col>Sepal.Width</th><th scope=col>Petal.Length</th><th scope=col>Petal.Width</th></tr></thead>\n",
       "<tbody>\n",
       "\t<tr><th scope=row>Sepal.Width</th><td>1.0000000</td><td>0.4010446</td><td>0.5377280</td></tr>\n",
       "\t<tr><th scope=row>Petal.Length</th><td>0.4010446</td><td>1.0000000</td><td>0.3221082</td></tr>\n",
       "\t<tr><th scope=row>Petal.Width</th><td>0.5377280</td><td>0.3221082</td><td>1.0000000</td></tr>\n",
       "</tbody>\n",
       "</table>\n"
      ],
      "text/latex": [
       "\\begin{tabular}{r|lll}\n",
       "  & Sepal.Width & Petal.Length & Petal.Width\\\\\n",
       "\\hline\n",
       "\tSepal.Width & 1.0000000 & 0.4010446 & 0.5377280\\\\\n",
       "\tPetal.Length & 0.4010446 & 1.0000000 & 0.3221082\\\\\n",
       "\tPetal.Width & 0.5377280 & 0.3221082 & 1.0000000\\\\\n",
       "\\end{tabular}\n"
      ],
      "text/markdown": [
       "\n",
       "| <!--/--> | Sepal.Width | Petal.Length | Petal.Width |\n",
       "|---|---|---|---|\n",
       "| Sepal.Width | 1.0000000 | 0.4010446 | 0.5377280 |\n",
       "| Petal.Length | 0.4010446 | 1.0000000 | 0.3221082 |\n",
       "| Petal.Width | 0.5377280 | 0.3221082 | 1.0000000 |\n",
       "\n"
      ],
      "text/plain": [
       "             Sepal.Width Petal.Length Petal.Width\n",
       "Sepal.Width  1.0000000   0.4010446    0.5377280  \n",
       "Petal.Length 0.4010446   1.0000000    0.3221082  \n",
       "Petal.Width  0.5377280   0.3221082    1.0000000  "
      ]
     },
     "metadata": {},
     "output_type": "display_data"
    },
    {
     "data": {
      "image/png": "[encoded data removed]",
      "text/plain": [
       "Plot with title \"\""
      ]
     },
     "metadata": {},
     "output_type": "display_data"
    }
   ],
   "source": [
    "# Análise de correlação das variáveis independentes\n",
    "correlation <- cor(dfVirg[2:4])\n",
    "correlation\n",
    "corrplot(correlation, type=\"lower\")"
   ]
  },
  {
   "cell_type": "markdown",
   "metadata": {},
   "source": [
    "### Devido a baixa correlação entre as variáveis independentes, as três foram escolhidas para compor o modelo."
   ]
  },
  {
   "cell_type": "code",
   "execution_count": 8,
   "metadata": {},
   "outputs": [
    {
     "data": {
      "text/plain": [
       "\n",
       "Call:\n",
       "lm(formula = dfVirg$Sepal.Length ~ dfVirg$Petal.Width + dfVirg$Sepal.Width + \n",
       "    dfVirg$Petal.Length)\n",
       "\n",
       "Residuals:\n",
       "    Min      1Q  Median      3Q     Max \n",
       "-0.7388 -0.2183  0.0148  0.2206  0.7443 \n",
       "\n",
       "Coefficients:\n",
       "                    Estimate Std. Error t value Pr(>|t|)    \n",
       "(Intercept)          0.69988    0.53360   1.312   0.1962    \n",
       "dfVirg$Petal.Width  -0.16975    0.19807  -0.857   0.3959    \n",
       "dfVirg$Sepal.Width   0.33034    0.17433   1.895   0.0644 .  \n",
       "dfVirg$Petal.Length  0.94554    0.09072  10.422 1.07e-13 ***\n",
       "---\n",
       "Signif. codes:  0 '***' 0.001 '**' 0.01 '*' 0.05 '.' 0.1 ' ' 1\n",
       "\n",
       "Residual standard error: 0.318 on 46 degrees of freedom\n",
       "Multiple R-squared:  0.7652,\tAdjusted R-squared:  0.7499 \n",
       "F-statistic: 49.98 on 3 and 46 DF,  p-value: 1.622e-14\n"
      ]
     },
     "metadata": {},
     "output_type": "display_data"
    },
    {
     "data": {
      "text/html": [
       "<table>\n",
       "<thead><tr><th></th><th scope=col>Df</th><th scope=col>Sum Sq</th><th scope=col>Mean Sq</th><th scope=col>F value</th><th scope=col>Pr(&gt;F)</th></tr></thead>\n",
       "<tbody>\n",
       "\t<tr><th scope=row>dfVirg$Petal.Width</th><td> 1          </td><td> 1.565638   </td><td> 1.5656380  </td><td> 15.48249   </td><td>2.792995e-04</td></tr>\n",
       "\t<tr><th scope=row>dfVirg$Sepal.Width</th><td> 1          </td><td> 2.610992   </td><td> 2.6109919  </td><td> 25.81993   </td><td>6.687302e-06</td></tr>\n",
       "\t<tr><th scope=row>dfVirg$Petal.Length</th><td> 1          </td><td>10.984507   </td><td>10.9845069  </td><td>108.62509   </td><td>1.074269e-13</td></tr>\n",
       "\t<tr><th scope=row>Residuals</th><td>46          </td><td> 4.651663   </td><td> 0.1011231  </td><td>       NA   </td><td>          NA</td></tr>\n",
       "</tbody>\n",
       "</table>\n"
      ],
      "text/latex": [
       "\\begin{tabular}{r|lllll}\n",
       "  & Df & Sum Sq & Mean Sq & F value & Pr(>F)\\\\\n",
       "\\hline\n",
       "\tdfVirg\\$Petal.Width &  1           &  1.565638    &  1.5656380   &  15.48249    & 2.792995e-04\\\\\n",
       "\tdfVirg\\$Sepal.Width &  1           &  2.610992    &  2.6109919   &  25.81993    & 6.687302e-06\\\\\n",
       "\tdfVirg\\$Petal.Length &  1           & 10.984507    & 10.9845069   & 108.62509    & 1.074269e-13\\\\\n",
       "\tResiduals & 46           &  4.651663    &  0.1011231   &        NA    &           NA\\\\\n",
       "\\end{tabular}\n"
      ],
      "text/markdown": [
       "\n",
       "| <!--/--> | Df | Sum Sq | Mean Sq | F value | Pr(>F) |\n",
       "|---|---|---|---|---|---|\n",
       "| dfVirg$Petal.Width |  1           |  1.565638    |  1.5656380   |  15.48249    | 2.792995e-04 |\n",
       "| dfVirg$Sepal.Width |  1           |  2.610992    |  2.6109919   |  25.81993    | 6.687302e-06 |\n",
       "| dfVirg$Petal.Length |  1           | 10.984507    | 10.9845069   | 108.62509    | 1.074269e-13 |\n",
       "| Residuals | 46           |  4.651663    |  0.1011231   |        NA    |           NA |\n",
       "\n"
      ],
      "text/plain": [
       "                    Df Sum Sq    Mean Sq    F value   Pr(>F)      \n",
       "dfVirg$Petal.Width   1  1.565638  1.5656380  15.48249 2.792995e-04\n",
       "dfVirg$Sepal.Width   1  2.610992  2.6109919  25.81993 6.687302e-06\n",
       "dfVirg$Petal.Length  1 10.984507 10.9845069 108.62509 1.074269e-13\n",
       "Residuals           46  4.651663  0.1011231        NA           NA"
      ]
     },
     "metadata": {},
     "output_type": "display_data"
    },
    {
     "data": {
      "text/html": [
       "<dl class=dl-horizontal>\n",
       "\t<dt>dfVirg$Petal.Width</dt>\n",
       "\t\t<dd>1.43401295642845</dd>\n",
       "\t<dt>dfVirg$Sepal.Width</dt>\n",
       "\t\t<dd>1.53155992832871</dd>\n",
       "\t<dt>dfVirg$Petal.Length</dt>\n",
       "\t\t<dd>1.21474106828377</dd>\n",
       "</dl>\n"
      ],
      "text/latex": [
       "\\begin{description*}\n",
       "\\item[dfVirg\\textbackslash{}\\$Petal.Width] 1.43401295642845\n",
       "\\item[dfVirg\\textbackslash{}\\$Sepal.Width] 1.53155992832871\n",
       "\\item[dfVirg\\textbackslash{}\\$Petal.Length] 1.21474106828377\n",
       "\\end{description*}\n"
      ],
      "text/markdown": [
       "dfVirg$Petal.Width\n",
       ":   1.43401295642845dfVirg$Sepal.Width\n",
       ":   1.53155992832871dfVirg$Petal.Length\n",
       ":   1.21474106828377\n",
       "\n"
      ],
      "text/plain": [
       " dfVirg$Petal.Width  dfVirg$Sepal.Width dfVirg$Petal.Length \n",
       "           1.434013            1.531560            1.214741 "
      ]
     },
     "metadata": {},
     "output_type": "display_data"
    },
    {
     "data": {
      "text/plain": [
       "\n",
       "\tShapiro-Wilk normality test\n",
       "\n",
       "data:  residuals(modelo)\n",
       "W = 0.99387, p-value = 0.996\n"
      ]
     },
     "metadata": {},
     "output_type": "display_data"
    },
    {
     "data": {
      "text/plain": [
       "\n",
       "\tDurbin-Watson test\n",
       "\n",
       "data:  modelo\n",
       "DW = 1.8873, p-value = 0.339\n",
       "alternative hypothesis: true autocorrelation is greater than 0\n"
      ]
     },
     "metadata": {},
     "output_type": "display_data"
    },
    {
     "data": {
      "text/plain": [
       "\n",
       "\tstudentized Breusch-Pagan test\n",
       "\n",
       "data:  modelo\n",
       "BP = 3.6674, df = 3, p-value = 0.2997\n"
      ]
     },
     "metadata": {},
     "output_type": "display_data"
    },
    {
     "data": {
      "text/plain": [
       "\n",
       "Call:\n",
       "lm(formula = dfVirg$Sepal.Length ~ dfVirg$Petal.Width + dfVirg$Sepal.Width + \n",
       "    dfVirg$Petal.Length)\n",
       "\n",
       "Coefficients:\n",
       "        (Intercept)   dfVirg$Petal.Width   dfVirg$Sepal.Width  \n",
       "             0.6999              -0.1698               0.3303  \n",
       "dfVirg$Petal.Length  \n",
       "             0.9455  \n"
      ]
     },
     "metadata": {},
     "output_type": "display_data"
    }
   ],
   "source": [
    "#Criar o primeiro modelo com base nos dados e melhores variáveis independentes segundo correlações\n",
    "#H0=b=0\n",
    "\n",
    "#Criação do modelo\n",
    "modelo<-lm(dfVirg$Sepal.Length ~ \n",
    "           dfVirg$Petal.Width + \n",
    "           dfVirg$Sepal.Width + \n",
    "           dfVirg$Petal.Length)\n",
    "\n",
    "# Resumo do modelo\n",
    "summary(modelo)\n",
    "\n",
    "# Teste ANOVA para o modelo\n",
    "anova(modelo)\n",
    "\n",
    "# Variance Inflation Factor\n",
    "vif(modelo)\n",
    "\n",
    "# Teste de Shapiro-Wilk para normalidade dos Resíduos\n",
    "shapiro.test(residuals(modelo))\n",
    "\n",
    "# Durbin watson test(Valor aceitável entre 1.5 e 2.5)\n",
    "dwtest(modelo)\n",
    "\n",
    "# H0 = homoscedasticity(Breusch-Pagan test)\n",
    "bptest(modelo)\n",
    "\n",
    "modelo"
   ]
  },
  {
   "cell_type": "markdown",
   "metadata": {},
   "source": [
    "### R²\n",
    "A análise do modelo indica que 76,52% do resultado da variável dependênte é explicada pelas variáveis independentes.\n",
    "\n",
    "### ANOVA \n",
    "Segundo teste da ANOVA, a hipótese nula é rejeitada e considera-se betas diferentes de zero do modelo.\n",
    "\n",
    "### Multicolinearidade\n",
    "O modelo acima foi criado tendo em consideração as três variáveis independentes do *dataset*. Conforme teste de \"*Variance Inflation Factor*\", os valores de multicolinearidade são satisfatórios. Com VIF <= 10.\n",
    "\n",
    "### Normalidade dos Resíduos\n",
    "Segundo teste shapiro-wilk nos resíduos, a hipótese nula não é rejeitada e há distribuição normal nos resíduos.\n",
    "\n",
    "### Auto correlação de resíduos\n",
    "A partir do *DW Test* a hipótese nula não é rejeitada e não existe auto-correlação. Além do valor de DW estar entre 1.5 e 2.5, como valor aceitável.\n",
    "\n",
    "### Homocedasticidade\n",
    "O Teste *Breush-Pagan* trás a informação de homocedasticidade. Segundo resultado a hipótese nula não é rejeitada e o modelo não apresenta heterocedasticidade.\n",
    "\n",
    "### Modelo\n",
    "Assim o modelo é:\n",
    "\n",
    "Setal.Length <- 0.6998830 - (Petal.Width \\* 0.1697527) + (Setal.Width \\* 0.3303370) + (Petal.Length \\* 0.9455356)"
   ]
  },
  {
   "cell_type": "code",
   "execution_count": 7,
   "metadata": {},
   "outputs": [
    {
     "data": {
      "image/png": "[encoded data removed]",
      "text/plain": [
       "Plot with title \"\""
      ]
     },
     "metadata": {},
     "output_type": "display_data"
    }
   ],
   "source": [
    "# Plot gráfico do modelo\n",
    "layout(matrix(c(1,2,3,4),2,2))\n",
    "plot(modelo);\n",
    "layout(1);"
   ]
  },
  {
   "cell_type": "markdown",
   "metadata": {},
   "source": [
    "Segundo análise gráfica acima, o modelo encontra-se dentro dos patrões. Via boxplot do dataset existe um outlier, mas o gráfico \"Residuals vs Leverage\" mostra que ele não é relevante para alteração do modelo.\n",
    "\n",
    "\"Residual vs Fited\" apresenta distribuição ao longo da reta, indicando linearidade.\n",
    "\n",
    "\"Scale Location\" determina homocedasticidade.\n",
    "\n",
    "\"Normal QQ\" indica distribuição normal dos resíduos."
   ]
  },
  {
   "cell_type": "code",
   "execution_count": 44,
   "metadata": {},
   "outputs": [
    {
     "data": {
      "text/html": [
       "<table>\n",
       "<thead><tr><th></th><th scope=col>Estimate</th><th scope=col>Std. Error</th><th scope=col>t value</th><th scope=col>Pr(&gt;|t|)</th><th scope=col>2.5 %</th><th scope=col>97.5 %</th></tr></thead>\n",
       "<tbody>\n",
       "\t<tr><th scope=row>ß0</th><td> 0.6998830  </td><td>0.53360089  </td><td> 1.3116227  </td><td>1.961563e-01</td><td>-0.37419983 </td><td>1.7739659   </td></tr>\n",
       "\t<tr><th scope=row>ß1(Petal.Width)</th><td>-0.1697527  </td><td>0.19807243  </td><td>-0.8570233  </td><td>3.958750e-01</td><td>-0.56845180 </td><td>0.2289464   </td></tr>\n",
       "\t<tr><th scope=row>ß2(Setal.Width)</th><td> 0.3303370  </td><td>0.17432873  </td><td> 1.8949086  </td><td>6.439972e-02</td><td>-0.02056852 </td><td>0.6812426   </td></tr>\n",
       "\t<tr><th scope=row>ß3(Petal.Length)</th><td> 0.9455356  </td><td>0.09072204  </td><td>10.4223360  </td><td>1.074269e-13</td><td> 0.76292159 </td><td>1.1281496   </td></tr>\n",
       "</tbody>\n",
       "</table>\n"
      ],
      "text/latex": [
       "\\begin{tabular}{r|llllll}\n",
       "  & Estimate & Std. Error & t value & Pr(>\\textbar{}t\\textbar{}) & 2.5 \\% & 97.5 \\%\\\\\n",
       "\\hline\n",
       "\tß0 &  0.6998830   & 0.53360089   &  1.3116227   & 1.961563e-01 & -0.37419983  & 1.7739659   \\\\\n",
       "\tß1(Petal.Width) & -0.1697527   & 0.19807243   & -0.8570233   & 3.958750e-01 & -0.56845180  & 0.2289464   \\\\\n",
       "\tß2(Setal.Width) &  0.3303370   & 0.17432873   &  1.8949086   & 6.439972e-02 & -0.02056852  & 0.6812426   \\\\\n",
       "\tß3(Petal.Length) &  0.9455356   & 0.09072204   & 10.4223360   & 1.074269e-13 &  0.76292159  & 1.1281496   \\\\\n",
       "\\end{tabular}\n"
      ],
      "text/markdown": [
       "\n",
       "| <!--/--> | Estimate | Std. Error | t value | Pr(>|t|) | 2.5 % | 97.5 % |\n",
       "|---|---|---|---|---|---|---|\n",
       "| ß0 |  0.6998830   | 0.53360089   |  1.3116227   | 1.961563e-01 | -0.37419983  | 1.7739659    |\n",
       "| ß1(Petal.Width) | -0.1697527   | 0.19807243   | -0.8570233   | 3.958750e-01 | -0.56845180  | 0.2289464    |\n",
       "| ß2(Setal.Width) |  0.3303370   | 0.17432873   |  1.8949086   | 6.439972e-02 | -0.02056852  | 0.6812426    |\n",
       "| ß3(Petal.Length) |  0.9455356   | 0.09072204   | 10.4223360   | 1.074269e-13 |  0.76292159  | 1.1281496    |\n",
       "\n"
      ],
      "text/plain": [
       "                 Estimate   Std. Error t value    Pr(>|t|)     2.5 %      \n",
       "ß0                0.6998830 0.53360089  1.3116227 1.961563e-01 -0.37419983\n",
       "ß1(Petal.Width)  -0.1697527 0.19807243 -0.8570233 3.958750e-01 -0.56845180\n",
       "ß2(Setal.Width)   0.3303370 0.17432873  1.8949086 6.439972e-02 -0.02056852\n",
       "ß3(Petal.Length)  0.9455356 0.09072204 10.4223360 1.074269e-13  0.76292159\n",
       "                 97.5 %   \n",
       "ß0               1.7739659\n",
       "ß1(Petal.Width)  0.2289464\n",
       "ß2(Setal.Width)  0.6812426\n",
       "ß3(Petal.Length) 1.1281496"
      ]
     },
     "metadata": {},
     "output_type": "display_data"
    }
   ],
   "source": [
    "# Mostra a tabela dos coeficientes da regressão, \n",
    "# Std. Error das estimativas dos coeficientes de regressão\n",
    "\n",
    "COEF=summary(modelo)$coefficients\n",
    "\n",
    "# Intervalos de Confiança para β0 e β1\n",
    "IC_betas=confint(modelo)\n",
    "tab<-cbind(COEF,IC_betas)\n",
    "rownames(tab)<-c(\"β0\",\"β1(Petal.Width)\",\"β2(Setal.Width)\",\"β3(Petal.Length)\")\n",
    "tab"
   ]
  },
  {
   "cell_type": "code",
   "execution_count": 85,
   "metadata": {},
   "outputs": [
    {
     "data": {
      "text/html": [
       "7.57494829"
      ],
      "text/latex": [
       "7.57494829"
      ],
      "text/markdown": [
       "7.57494829"
      ],
      "text/plain": [
       "[1] 7.574948"
      ]
     },
     "metadata": {},
     "output_type": "display_data"
    }
   ],
   "source": [
    "# Teste simples do modelo\n",
    "Setal.Width <- 3\n",
    "Petal.Length <- 6.6\n",
    "Petal.Width <- 2.1\n",
    "\n",
    "\n",
    "Setal.Length <- 0.6998830 -(Petal.Width*0.1697527) + (Setal.Width*0.3303370) + (Petal.Length*0.9455356)\n",
    "Setal.Length\n",
    "\n"
   ]
  },
  {
   "cell_type": "code",
   "execution_count": 45,
   "metadata": {},
   "outputs": [
    {
     "data": {
      "text/html": [
       "<table>\n",
       "<thead><tr><th></th><th scope=col>Sepal.Length</th><th scope=col>Sepal.Width</th><th scope=col>Petal.Length</th><th scope=col>Petal.Width</th><th scope=col>Species</th></tr></thead>\n",
       "<tbody>\n",
       "\t<tr><th scope=row>101</th><td>6.3      </td><td>3.3      </td><td>6.0      </td><td>2.5      </td><td>virginica</td></tr>\n",
       "\t<tr><th scope=row>102</th><td>5.8      </td><td>2.7      </td><td>5.1      </td><td>1.9      </td><td>virginica</td></tr>\n",
       "\t<tr><th scope=row>103</th><td>7.1      </td><td>3.0      </td><td>5.9      </td><td>2.1      </td><td>virginica</td></tr>\n",
       "\t<tr><th scope=row>104</th><td>6.3      </td><td>2.9      </td><td>5.6      </td><td>1.8      </td><td>virginica</td></tr>\n",
       "\t<tr><th scope=row>105</th><td>6.5      </td><td>3.0      </td><td>5.8      </td><td>2.2      </td><td>virginica</td></tr>\n",
       "\t<tr><th scope=row>106</th><td>7.6      </td><td>3.0      </td><td>6.6      </td><td>2.1      </td><td>virginica</td></tr>\n",
       "</tbody>\n",
       "</table>\n"
      ],
      "text/latex": [
       "\\begin{tabular}{r|lllll}\n",
       "  & Sepal.Length & Sepal.Width & Petal.Length & Petal.Width & Species\\\\\n",
       "\\hline\n",
       "\t101 & 6.3       & 3.3       & 6.0       & 2.5       & virginica\\\\\n",
       "\t102 & 5.8       & 2.7       & 5.1       & 1.9       & virginica\\\\\n",
       "\t103 & 7.1       & 3.0       & 5.9       & 2.1       & virginica\\\\\n",
       "\t104 & 6.3       & 2.9       & 5.6       & 1.8       & virginica\\\\\n",
       "\t105 & 6.5       & 3.0       & 5.8       & 2.2       & virginica\\\\\n",
       "\t106 & 7.6       & 3.0       & 6.6       & 2.1       & virginica\\\\\n",
       "\\end{tabular}\n"
      ],
      "text/markdown": [
       "\n",
       "| <!--/--> | Sepal.Length | Sepal.Width | Petal.Length | Petal.Width | Species |\n",
       "|---|---|---|---|---|---|\n",
       "| 101 | 6.3       | 3.3       | 6.0       | 2.5       | virginica |\n",
       "| 102 | 5.8       | 2.7       | 5.1       | 1.9       | virginica |\n",
       "| 103 | 7.1       | 3.0       | 5.9       | 2.1       | virginica |\n",
       "| 104 | 6.3       | 2.9       | 5.6       | 1.8       | virginica |\n",
       "| 105 | 6.5       | 3.0       | 5.8       | 2.2       | virginica |\n",
       "| 106 | 7.6       | 3.0       | 6.6       | 2.1       | virginica |\n",
       "\n"
      ],
      "text/plain": [
       "    Sepal.Length Sepal.Width Petal.Length Petal.Width Species  \n",
       "101 6.3          3.3         6.0          2.5         virginica\n",
       "102 5.8          2.7         5.1          1.9         virginica\n",
       "103 7.1          3.0         5.9          2.1         virginica\n",
       "104 6.3          2.9         5.6          1.8         virginica\n",
       "105 6.5          3.0         5.8          2.2         virginica\n",
       "106 7.6          3.0         6.6          2.1         virginica"
      ]
     },
     "metadata": {},
     "output_type": "display_data"
    }
   ],
   "source": [
    "head(dfVirg)"
   ]
  },
  {
   "cell_type": "code",
   "execution_count": 84,
   "metadata": {
    "scrolled": false
   },
   "outputs": [
    {
     "name": "stdout",
     "output_type": "stream",
     "text": [
      "[1] \"Both\"\n",
      "Start:  AIC=-110.74\n",
      "dfVirg$Sepal.Length ~ dfVirg$Petal.Width + dfVirg$Sepal.Width + \n",
      "    dfVirg$Petal.Length\n",
      "\n",
      "                      Df Sum of Sq     RSS      AIC\n",
      "- dfVirg$Petal.Width   1    0.0743  4.7259 -111.948\n",
      "<none>                              4.6517 -110.740\n",
      "- dfVirg$Sepal.Width   1    0.3631  5.0148 -108.982\n",
      "- dfVirg$Petal.Length  1   10.9845 15.6362  -52.122\n",
      "\n",
      "Step:  AIC=-111.95\n",
      "dfVirg$Sepal.Length ~ dfVirg$Sepal.Width + dfVirg$Petal.Length\n",
      "\n",
      "                      Df Sum of Sq     RSS      AIC\n",
      "<none>                              4.7259 -111.948\n",
      "- dfVirg$Sepal.Width   1    0.2890  5.0149 -110.980\n",
      "+ dfVirg$Petal.Width   1    0.0743  4.6517 -110.740\n",
      "- dfVirg$Petal.Length  1   10.9449 15.6708  -54.011\n"
     ]
    },
    {
     "data": {
      "text/plain": [
       "\n",
       "Call:\n",
       "lm(formula = dfVirg$Sepal.Length ~ dfVirg$Sepal.Width + dfVirg$Petal.Length)\n",
       "\n",
       "Residuals:\n",
       "     Min       1Q   Median       3Q      Max \n",
       "-0.79154 -0.23348  0.01447  0.22070  0.70178 \n",
       "\n",
       "Coefficients:\n",
       "                    Estimate Std. Error t value Pr(>|t|)    \n",
       "(Intercept)           0.6248     0.5249   1.190   0.2399    \n",
       "dfVirg$Sepal.Width    0.2600     0.1533   1.695   0.0966 .  \n",
       "dfVirg$Petal.Length   0.9348     0.0896  10.433 8.01e-14 ***\n",
       "---\n",
       "Signif. codes:  0 '***' 0.001 '**' 0.01 '*' 0.05 '.' 0.1 ' ' 1\n",
       "\n",
       "Residual standard error: 0.3171 on 47 degrees of freedom\n",
       "Multiple R-squared:  0.7615,\tAdjusted R-squared:  0.7513 \n",
       "F-statistic: 75.02 on 2 and 47 DF,  p-value: 2.356e-15\n"
      ]
     },
     "metadata": {},
     "output_type": "display_data"
    },
    {
     "name": "stdout",
     "output_type": "stream",
     "text": [
      "[1] \"Forward\"\n",
      "Start:  AIC=-110.74\n",
      "dfVirg$Sepal.Length ~ dfVirg$Petal.Width + dfVirg$Sepal.Width + \n",
      "    dfVirg$Petal.Length\n",
      "\n"
     ]
    },
    {
     "data": {
      "text/plain": [
       "\n",
       "Call:\n",
       "lm(formula = dfVirg$Sepal.Length ~ dfVirg$Petal.Width + dfVirg$Sepal.Width + \n",
       "    dfVirg$Petal.Length)\n",
       "\n",
       "Residuals:\n",
       "    Min      1Q  Median      3Q     Max \n",
       "-0.7388 -0.2183  0.0148  0.2206  0.7443 \n",
       "\n",
       "Coefficients:\n",
       "                    Estimate Std. Error t value Pr(>|t|)    \n",
       "(Intercept)          0.69988    0.53360   1.312   0.1962    \n",
       "dfVirg$Petal.Width  -0.16975    0.19807  -0.857   0.3959    \n",
       "dfVirg$Sepal.Width   0.33034    0.17433   1.895   0.0644 .  \n",
       "dfVirg$Petal.Length  0.94554    0.09072  10.422 1.07e-13 ***\n",
       "---\n",
       "Signif. codes:  0 '***' 0.001 '**' 0.01 '*' 0.05 '.' 0.1 ' ' 1\n",
       "\n",
       "Residual standard error: 0.318 on 46 degrees of freedom\n",
       "Multiple R-squared:  0.7652,\tAdjusted R-squared:  0.7499 \n",
       "F-statistic: 49.98 on 3 and 46 DF,  p-value: 1.622e-14\n"
      ]
     },
     "metadata": {},
     "output_type": "display_data"
    },
    {
     "name": "stdout",
     "output_type": "stream",
     "text": [
      "[1] \"Backward\"\n",
      "Start:  AIC=-110.74\n",
      "dfVirg$Sepal.Length ~ dfVirg$Petal.Width + dfVirg$Sepal.Width + \n",
      "    dfVirg$Petal.Length\n",
      "\n",
      "                      Df Sum of Sq     RSS      AIC\n",
      "- dfVirg$Petal.Width   1    0.0743  4.7259 -111.948\n",
      "<none>                              4.6517 -110.740\n",
      "- dfVirg$Sepal.Width   1    0.3631  5.0148 -108.982\n",
      "- dfVirg$Petal.Length  1   10.9845 15.6362  -52.122\n",
      "\n",
      "Step:  AIC=-111.95\n",
      "dfVirg$Sepal.Length ~ dfVirg$Sepal.Width + dfVirg$Petal.Length\n",
      "\n",
      "                      Df Sum of Sq     RSS      AIC\n",
      "<none>                              4.7259 -111.948\n",
      "- dfVirg$Sepal.Width   1     0.289  5.0149 -110.980\n",
      "- dfVirg$Petal.Length  1    10.945 15.6708  -54.011\n"
     ]
    },
    {
     "data": {
      "text/plain": [
       "\n",
       "Call:\n",
       "lm(formula = dfVirg$Sepal.Length ~ dfVirg$Sepal.Width + dfVirg$Petal.Length)\n",
       "\n",
       "Residuals:\n",
       "     Min       1Q   Median       3Q      Max \n",
       "-0.79154 -0.23348  0.01447  0.22070  0.70178 \n",
       "\n",
       "Coefficients:\n",
       "                    Estimate Std. Error t value Pr(>|t|)    \n",
       "(Intercept)           0.6248     0.5249   1.190   0.2399    \n",
       "dfVirg$Sepal.Width    0.2600     0.1533   1.695   0.0966 .  \n",
       "dfVirg$Petal.Length   0.9348     0.0896  10.433 8.01e-14 ***\n",
       "---\n",
       "Signif. codes:  0 '***' 0.001 '**' 0.01 '*' 0.05 '.' 0.1 ' ' 1\n",
       "\n",
       "Residual standard error: 0.3171 on 47 degrees of freedom\n",
       "Multiple R-squared:  0.7615,\tAdjusted R-squared:  0.7513 \n",
       "F-statistic: 75.02 on 2 and 47 DF,  p-value: 2.356e-15\n"
      ]
     },
     "metadata": {},
     "output_type": "display_data"
    }
   ],
   "source": [
    "# Análise do stepAIC\n",
    "# Análise via stepAIC não apresentou melhora no modelo\n",
    "require(MASS)\n",
    "\n",
    "print(\"Both\")\n",
    "summary(stepAIC(modelo, direction = 'both'))\n",
    "\n",
    "print(\"Forward\")\n",
    "summary(stepAIC(modelo, direction = 'forward'))\n",
    "\n",
    "print(\"Backward\")\n",
    "summary(stepAIC(modelo, direction = 'backward'))"
   ]
  },
  {
   "cell_type": "code",
   "execution_count": 87,
   "metadata": {
    "scrolled": false
   },
   "outputs": [
    {
     "data": {
      "text/plain": [
       "\n",
       "Call:\n",
       "C5.0.default(x = input, y = output, control = C5.0Control(noGlobalPruning\n",
       " = TRUE, minCases = 1))\n",
       "\n",
       "\n",
       "C5.0 [Release 2.07 GPL Edition]  \tTue Jun 16 22:13:42 2020\n",
       "-------------------------------\n",
       "\n",
       "Class specified by attribute `outcome'\n",
       "\n",
       "Read 150 cases (5 attributes) from undefined.data\n",
       "\n",
       "Decision tree:\n",
       "\n",
       "Petal.Length <= 1.9: setosa (50)\n",
       "Petal.Length > 1.9:\n",
       ":...Petal.Width > 1.7: virginica (46/1)\n",
       "    Petal.Width <= 1.7:\n",
       "    :...Petal.Length <= 4.9: versicolor (48/1)\n",
       "        Petal.Length > 4.9:\n",
       "        :...Petal.Width <= 1.5: virginica (3)\n",
       "            Petal.Width > 1.5:\n",
       "            :...Petal.Length <= 5.4: versicolor (2)\n",
       "                Petal.Length > 5.4: virginica (1)\n",
       "\n",
       "\n",
       "Evaluation on training data (150 cases):\n",
       "\n",
       "\t    Decision Tree   \n",
       "\t  ----------------  \n",
       "\t  Size      Errors  \n",
       "\n",
       "\t     6    2( 1.3%)   <<\n",
       "\n",
       "\n",
       "\t   (a)   (b)   (c)    <-classified as\n",
       "\t  ----  ----  ----\n",
       "\t    50                (a): class setosa\n",
       "\t          49     1    (b): class versicolor\n",
       "\t           1    49    (c): class virginica\n",
       "\n",
       "\n",
       "\tAttribute usage:\n",
       "\n",
       "\t100.00%\tPetal.Length\n",
       "\t 66.67%\tPetal.Width\n",
       "\n",
       "\n",
       "Time: 0.0 secs\n"
      ]
     },
     "metadata": {},
     "output_type": "display_data"
    },
    {
     "data": {
      "image/png": "[encoded data removed]",
      "text/plain": [
       "plot without title"
      ]
     },
     "metadata": {},
     "output_type": "display_data"
    }
   ],
   "source": [
    "# Análise extra - Árvore de decisão\n",
    "library(C50)\n",
    "input <- df[,1:4]\n",
    "\n",
    "output <- df[,5]\n",
    "model1 <- C5.0(input, output, control = C5.0Control(noGlobalPruning = TRUE,minCases=1))\n",
    "plot(model1, main=\"C5.0 Decision Tree - Unpruned, min=1\")\n",
    "summary(model1)"
   ]
  },
  {
   "cell_type": "code",
   "execution_count": 1,
   "metadata": {},
   "outputs": [],
   "source": [
    "?iris"
   ]
  },
  {
   "cell_type": "code",
   "execution_count": 2,
   "metadata": {},
   "outputs": [],
   "source": [
    "?lm"
   ]
  },
  {
   "cell_type": "code",
   "execution_count": null,
   "metadata": {},
   "outputs": [],
   "source": []
  }
 ],
 "metadata": {
  "kernelspec": {
   "display_name": "R",
   "language": "R",
   "name": "ir"
  },
  "language_info": {
   "codemirror_mode": "r",
   "file_extension": ".r",
   "mimetype": "text/x-r-source",
   "name": "R",
   "pygments_lexer": "r",
   "version": "3.6.1"
  }
 },
 "nbformat": 4,
 "nbformat_minor": 4
}
