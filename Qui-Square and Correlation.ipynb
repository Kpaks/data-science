{
 "cells": [
  {
   "cell_type": "markdown",
   "metadata": {},
   "source": [
    "## Métodos Quantitativos II\n",
    "\n",
    "### Aula 7 "
   ]
  },
  {
   "cell_type": "markdown",
   "metadata": {},
   "source": [
    "### Exercício 1\n",
    "Para estudar a efetividade de determinada droga no alívio da dor após a\n",
    "instrumentação endodôntica (tratamento de canal), um cirurgião-dentista fez um\n",
    "experimento. Antes do procedimento clínico, administrou dois comprimidos de placebo\n",
    "para 50 pacientes (grupo controle) e dois comprimidos da droga para 150 pacientes\n",
    "(grupo tratado). Os comprimidos foram acondicionados em envelopes codificados, para\n",
    "que o paciente não soubesse se estava recebendo a droga em teste para o alívio da dor,\n",
    "ou se estava recebendo placebo. \n",
    "\n",
    "Usando o R, realize o teste de hipótese apropriado e considere o nível de significância igual a \n",
    "0,05."
   ]
  },
  {
   "cell_type": "markdown",
   "metadata": {},
   "source": [
    "#### Passo 1: \n",
    "H0: Variáveis são independentes(Relato de dor independe da ingestão da droga)<br>\n",
    "H1: Variáveis são dependentes(Relato de dor depende da ingestão da droga)\n",
    "\n",
    "#### Passo 2:\n",
    "Usamos X² para medir a dependência entre duas variáveis.\n",
    "\n",
    "#### Passo 3:\n",
    "X² >= 3,84 para nível de significância de 5%\n",
    "\n",
    "#### Passo 4: "
   ]
  },
  {
   "cell_type": "code",
   "execution_count": 11,
   "metadata": {},
   "outputs": [
    {
     "data": {
      "text/plain": [
       "\n",
       "\tPearson's Chi-squared test with Yates' continuity correction\n",
       "\n",
       "data:  Table\n",
       "X-squared = 2.5752, df = 1, p-value = 0.1085\n"
      ]
     },
     "metadata": {},
     "output_type": "display_data"
    }
   ],
   "source": [
    "Table <− matrix (c(10 , 40 , 15 , 135) , 2 , 2 , byrow = TRUE) \n",
    "dimnames(Table) <− list(rows = c('Controle', 'Tratado') , columns = c('Sim' , 'Não'))\n",
    "Test <− chisq.test (Table)\n",
    "Test"
   ]
  },
  {
   "cell_type": "markdown",
   "metadata": {},
   "source": [
    "#### Passo 5:\n",
    "\n",
    "Dessa forma, como X²p4 < X²p3(2,57 < 3,84) não rejeita-se H0."
   ]
  },
  {
   "cell_type": "markdown",
   "metadata": {},
   "source": [
    "### Exercício 2\n",
    "\n",
    "É esperado que a massa muscular de uma pessoa diminua com a idade. Para estudar essa\n",
    "relação, uma nutricionista selecionou 18 mulheres, com idade entre 40 e 79 anos, e\n",
    "observou em cada uma delas a idade (X) e a massa muscular (Y).\n",
    "\n",
    "<b>Usando o R:</b><br>(a) construa o diagrama de dispersão e interprete-o.<br>\n",
    "(b) Calcule o coeficiente de correlação linear apropriado entre X e Y e interprete-o.<br>\n",
    "(c) Teste a significância do coef. de correlação calculado no item (b) e interprete-o."
   ]
  },
  {
   "cell_type": "code",
   "execution_count": 38,
   "metadata": {},
   "outputs": [
    {
     "data": {
      "image/png": "[encoded data removed]",
      "text/plain": [
       "plot without title"
      ]
     },
     "metadata": {},
     "output_type": "display_data"
    }
   ],
   "source": [
    "library(ggplot2)\n",
    "massa <− c(82 , 91 , 100 , 68 , 87 , 73 , 78 , 80 , 65 , 84 , 116 , 76 , 97 , 100 , 105 , 77 , 73 , 78) \n",
    "idade <− c (71 , 64 , 43 , 67 , 56 , 73 , 68 , 56 , 76 , 65 , 45 , 58 , 45 , 53 , 49 , 78 , 73 , 68)\n",
    "\n",
    "qplot(massa,idade)"
   ]
  },
  {
   "cell_type": "markdown",
   "metadata": {},
   "source": [
    "<b>(a)</b>Segundo os dados e o gráfico de dispersão, nota-se que existe uma correlação entre a diminuição da massa<br>\n",
    "e a o aumento da idade."
   ]
  },
  {
   "cell_type": "code",
   "execution_count": 39,
   "metadata": {},
   "outputs": [
    {
     "data": {
      "text/plain": [
       "\n",
       "\tShapiro-Wilk normality test\n",
       "\n",
       "data:  massa\n",
       "W = 0.94474, p-value = 0.3486\n"
      ]
     },
     "metadata": {},
     "output_type": "display_data"
    },
    {
     "data": {
      "text/plain": [
       "\n",
       "\tShapiro-Wilk normality test\n",
       "\n",
       "data:  idade\n",
       "W = 0.93627, p-value = 0.2499\n"
      ]
     },
     "metadata": {},
     "output_type": "display_data"
    },
    {
     "data": {
      "text/plain": [
       "\n",
       "\tPearson's product-moment correlation\n",
       "\n",
       "data:  massa and idade\n",
       "t = -6.1105, df = 16, p-value = 1.504e-05\n",
       "alternative hypothesis: true correlation is not equal to 0\n",
       "95 percent confidence interval:\n",
       " -0.9373858 -0.6068563\n",
       "sample estimates:\n",
       "       cor \n",
       "-0.8366766 \n"
      ]
     },
     "metadata": {},
     "output_type": "display_data"
    }
   ],
   "source": [
    "shapiro.test (massa) \n",
    "shapiro.test (idade)\n",
    "cor.test (massa, idade)"
   ]
  },
  {
   "cell_type": "markdown",
   "metadata": {},
   "source": [
    "<b>(b)</b> Através do cálculo foi obtido coefiênte de -0,8366766, indicando correlação negativa."
   ]
  },
  {
   "cell_type": "markdown",
   "metadata": {},
   "source": [
    "#### Passo 1:\n",
    "H0: Não existe correlação entre massa e idade<br>\n",
    "H1: Existe correlação entre massa e idade\n",
    "\n",
    "#### Passo 2:\n",
    "Usaremos teste de correlação para analisar as variáveis.\n",
    "\n",
    "#### Passo 3:\n",
    "De acordo com o código R acima como o coeficiênte < 0 e p-value é muito pequeno as variáveis possuem forte correlação."
   ]
  }
 ],
 "metadata": {
  "kernelspec": {
   "display_name": "R",
   "language": "R",
   "name": "ir"
  },
  "language_info": {
   "codemirror_mode": "r",
   "file_extension": ".r",
   "mimetype": "text/x-r-source",
   "name": "R",
   "pygments_lexer": "r",
   "version": "3.6.1"
  }
 },
 "nbformat": 4,
 "nbformat_minor": 4
}
